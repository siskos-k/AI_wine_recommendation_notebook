{
 "cells": [
  {
   "cell_type": "markdown",
   "id": "9f72da25-3de1-4e37-a0be-601a071a1385",
   "metadata": {
    "jp-MarkdownHeadingCollapsed": true
   },
   "source": [
    "# AI Wine Recommendation Applet\n",
    "\n",
    "**Date:** 23rd August 2024\n",
    "\n",
    "## Overview\n",
    "\n",
    "The AI Wine Recommendation Applet is designed to assist users in selecting the ideal wine based on their preferences. The applet allows users to upload a wine list, extracts relevant data and organizes the data and organizes it into a structured pandas DataFrame. A Machine Learning model is then trained on this data to recommend wines based on user input through an interactive quiz.The process is then generalized to coctails\n",
    "\n",
    "## Goals\n",
    "\n",
    "1. **Input Processing:** Implement a robust text process to accurately extract wine data from an uploaded xlsx, or csv file.\n",
    "2. **Data Structuring:** Organize extracted text into a well-defined DataFrame with columns such as wine name, flavor_notes, type, and price.\n",
    "3. **Model Training:** Develop a machine learning model that can make personalized wine recommendations based on the user’s preferences.\n",
    "4. **User Interaction:** Design an interactive quiz to capture user preferences and suggest the best wine accordingly.\n",
    "5. **Scalability and Customization:** Make the quiz instantly adaptable to any well organized winelist. Users are able to upload their list and instantly have access to to the quiz\n",
    "\n",
    "## Specifications\n",
    "\n",
    "- **Input:** File of a wine list provided by the user.\n",
    "- **Output:** A recommended wine based on user preferences, displayed after they complete a user friendly quiz.\n",
    "- **Libraries Used:** pandas, scikit-learn, openpyxl, ipywidgets, pydantic.\n",
    "- **Offline Functionality:** The applet is designed to function entirely offline, relying on locally installed packages and data.\n"
   ]
  },
  {
   "cell_type": "markdown",
   "id": "d336eecd-90cc-4cfe-b768-7a120d4a7688",
   "metadata": {},
   "source": [
    "# **<span style=\"\">Prompt 1: Project Overview and Initial Task</span>**\n",
    "\n",
    "## **<span style=\"color:blue\">I want to create an AI wine recommendation system. It should take a wine list as input, and use its data to train a model for recommending wines based on a users preferences. Can you help me build this step by step? Here is a sample wine list</span>**\n"
   ]
  },
  {
   "cell_type": "code",
   "execution_count": 1,
   "id": "81390842-3770-432a-9679-73b63494578b",
   "metadata": {
    "scrolled": true
   },
   "outputs": [
    {
     "name": "stdout",
     "output_type": "stream",
     "text": [
      "Requirement already satisfied: pandas in /Users/siskos/Library/jupyterlab-desktop/jlab_server/lib/python3.12/site-packages (2.2.2)\n",
      "Requirement already satisfied: scikit-learn in /Users/siskos/Library/jupyterlab-desktop/jlab_server/lib/python3.12/site-packages (1.5.1)\n",
      "Requirement already satisfied: openpyxl in /Users/siskos/Library/jupyterlab-desktop/jlab_server/lib/python3.12/site-packages (3.1.5)\n",
      "Requirement already satisfied: ipywidgets in /Users/siskos/Library/jupyterlab-desktop/jlab_server/lib/python3.12/site-packages (8.1.2)\n",
      "Requirement already satisfied: pydantic in /Users/siskos/Library/jupyterlab-desktop/jlab_server/lib/python3.12/site-packages (2.8.2)\n",
      "Requirement already satisfied: numpy>=1.26.0 in /Users/siskos/Library/jupyterlab-desktop/jlab_server/lib/python3.12/site-packages (from pandas) (1.26.4)\n",
      "Requirement already satisfied: python-dateutil>=2.8.2 in /Users/siskos/Library/jupyterlab-desktop/jlab_server/lib/python3.12/site-packages (from pandas) (2.9.0)\n",
      "Requirement already satisfied: pytz>=2020.1 in /Users/siskos/Library/jupyterlab-desktop/jlab_server/lib/python3.12/site-packages (from pandas) (2024.1)\n",
      "Requirement already satisfied: tzdata>=2022.7 in /Users/siskos/Library/jupyterlab-desktop/jlab_server/lib/python3.12/site-packages (from pandas) (2024.1)\n",
      "Requirement already satisfied: scipy>=1.6.0 in /Users/siskos/Library/jupyterlab-desktop/jlab_server/lib/python3.12/site-packages (from scikit-learn) (1.13.1)\n",
      "Requirement already satisfied: joblib>=1.2.0 in /Users/siskos/Library/jupyterlab-desktop/jlab_server/lib/python3.12/site-packages (from scikit-learn) (1.4.2)\n",
      "Requirement already satisfied: threadpoolctl>=3.1.0 in /Users/siskos/Library/jupyterlab-desktop/jlab_server/lib/python3.12/site-packages (from scikit-learn) (3.5.0)\n",
      "Requirement already satisfied: et-xmlfile in /Users/siskos/Library/jupyterlab-desktop/jlab_server/lib/python3.12/site-packages (from openpyxl) (1.1.0)\n",
      "Requirement already satisfied: comm>=0.1.3 in /Users/siskos/Library/jupyterlab-desktop/jlab_server/lib/python3.12/site-packages (from ipywidgets) (0.2.2)\n",
      "Requirement already satisfied: ipython>=6.1.0 in /Users/siskos/Library/jupyterlab-desktop/jlab_server/lib/python3.12/site-packages (from ipywidgets) (8.24.0)\n",
      "Requirement already satisfied: traitlets>=4.3.1 in /Users/siskos/Library/jupyterlab-desktop/jlab_server/lib/python3.12/site-packages (from ipywidgets) (5.14.3)\n",
      "Requirement already satisfied: widgetsnbextension~=4.0.10 in /Users/siskos/Library/jupyterlab-desktop/jlab_server/lib/python3.12/site-packages (from ipywidgets) (4.0.10)\n",
      "Requirement already satisfied: jupyterlab-widgets~=3.0.10 in /Users/siskos/Library/jupyterlab-desktop/jlab_server/lib/python3.12/site-packages (from ipywidgets) (3.0.10)\n",
      "Requirement already satisfied: annotated-types>=0.4.0 in /Users/siskos/Library/jupyterlab-desktop/jlab_server/lib/python3.12/site-packages (from pydantic) (0.7.0)\n",
      "Requirement already satisfied: pydantic-core==2.20.1 in /Users/siskos/Library/jupyterlab-desktop/jlab_server/lib/python3.12/site-packages (from pydantic) (2.20.1)\n",
      "Requirement already satisfied: typing-extensions>=4.6.1 in /Users/siskos/Library/jupyterlab-desktop/jlab_server/lib/python3.12/site-packages (from pydantic) (4.11.0)\n",
      "Requirement already satisfied: decorator in /Users/siskos/Library/jupyterlab-desktop/jlab_server/lib/python3.12/site-packages (from ipython>=6.1.0->ipywidgets) (5.1.1)\n",
      "Requirement already satisfied: jedi>=0.16 in /Users/siskos/Library/jupyterlab-desktop/jlab_server/lib/python3.12/site-packages (from ipython>=6.1.0->ipywidgets) (0.19.1)\n",
      "Requirement already satisfied: matplotlib-inline in /Users/siskos/Library/jupyterlab-desktop/jlab_server/lib/python3.12/site-packages (from ipython>=6.1.0->ipywidgets) (0.1.7)\n",
      "Requirement already satisfied: prompt-toolkit<3.1.0,>=3.0.41 in /Users/siskos/Library/jupyterlab-desktop/jlab_server/lib/python3.12/site-packages (from ipython>=6.1.0->ipywidgets) (3.0.42)\n",
      "Requirement already satisfied: pygments>=2.4.0 in /Users/siskos/Library/jupyterlab-desktop/jlab_server/lib/python3.12/site-packages (from ipython>=6.1.0->ipywidgets) (2.18.0)\n",
      "Requirement already satisfied: stack-data in /Users/siskos/Library/jupyterlab-desktop/jlab_server/lib/python3.12/site-packages (from ipython>=6.1.0->ipywidgets) (0.6.2)\n",
      "Requirement already satisfied: pexpect>4.3 in /Users/siskos/Library/jupyterlab-desktop/jlab_server/lib/python3.12/site-packages (from ipython>=6.1.0->ipywidgets) (4.9.0)\n",
      "Requirement already satisfied: six>=1.5 in /Users/siskos/Library/jupyterlab-desktop/jlab_server/lib/python3.12/site-packages (from python-dateutil>=2.8.2->pandas) (1.16.0)\n",
      "Requirement already satisfied: parso<0.9.0,>=0.8.3 in /Users/siskos/Library/jupyterlab-desktop/jlab_server/lib/python3.12/site-packages (from jedi>=0.16->ipython>=6.1.0->ipywidgets) (0.8.4)\n",
      "Requirement already satisfied: ptyprocess>=0.5 in /Users/siskos/Library/jupyterlab-desktop/jlab_server/lib/python3.12/site-packages (from pexpect>4.3->ipython>=6.1.0->ipywidgets) (0.7.0)\n",
      "Requirement already satisfied: wcwidth in /Users/siskos/Library/jupyterlab-desktop/jlab_server/lib/python3.12/site-packages (from prompt-toolkit<3.1.0,>=3.0.41->ipython>=6.1.0->ipywidgets) (0.2.13)\n",
      "Requirement already satisfied: executing>=1.2.0 in /Users/siskos/Library/jupyterlab-desktop/jlab_server/lib/python3.12/site-packages (from stack-data->ipython>=6.1.0->ipywidgets) (2.0.1)\n",
      "Requirement already satisfied: asttokens>=2.1.0 in /Users/siskos/Library/jupyterlab-desktop/jlab_server/lib/python3.12/site-packages (from stack-data->ipython>=6.1.0->ipywidgets) (2.4.1)\n",
      "Requirement already satisfied: pure-eval in /Users/siskos/Library/jupyterlab-desktop/jlab_server/lib/python3.12/site-packages (from stack-data->ipython>=6.1.0->ipywidgets) (0.2.2)\n",
      "Note: you may need to restart the kernel to use updated packages.\n"
     ]
    }
   ],
   "source": [
    "pip install pandas scikit-learn openpyxl ipywidgets pydantic\n"
   ]
  },
  {
   "cell_type": "markdown",
   "id": "e5dc566a-220d-468d-81b7-051e340d0dd3",
   "metadata": {},
   "source": [
    "# Let's make the Machine Learning model that could help users decide on their ideal wine"
   ]
  },
  {
   "cell_type": "code",
   "execution_count": 8,
   "id": "8c4b893c-0d05-478b-9ae0-ad14791ecced",
   "metadata": {
    "scrolled": true
   },
   "outputs": [
    {
     "name": "stdout",
     "output_type": "stream",
     "text": [
      "Model trained successfully.\n"
     ]
    }
   ],
   "source": [
    "import pandas as pd\n",
    "\n",
    "# Load the Excel file\n",
    "file_path = 'wines_balanced.xlsx'\n",
    "# Read the data into a pandas DataFrame\n",
    "wine_df = pd.read_excel(file_path)\n",
    "import pandas as pd\n",
    "\n",
    "from sklearn.neighbors import NearestNeighbors\n",
    "from sklearn.preprocessing import LabelEncoder, MultiLabelBinarizer\n",
    "\n",
    "# Load and prepare the data\n",
    "wine_df = pd.read_excel('wines_balanced.xlsx')\n",
    "\n",
    "# Define the weights for different features\n",
    "type_weight = 1.5\n",
    "sweetness_weight = 0.4\n",
    "flavor_notes_weight = 0.3\n",
    "body_weight = 0.2\n",
    "occasion_weight = 0.01\n",
    "price_range_weight = 1.0\n",
    "\n",
    "# Initialize encoders and binarizers\n",
    "le_type = LabelEncoder()\n",
    "le_sweetness = LabelEncoder()\n",
    "le_body = LabelEncoder()\n",
    "le_occasion = LabelEncoder()\n",
    "le_price_range = LabelEncoder()\n",
    "mlb = MultiLabelBinarizer()\n",
    "\n",
    "# Encode categorical features\n",
    "wine_df['type'] = le_type.fit_transform(wine_df['type'])\n",
    "wine_df['sweetness'] = le_sweetness.fit_transform(wine_df['sweetness'])\n",
    "wine_df['body'] = le_body.fit_transform(wine_df['body'])\n",
    "wine_df['occasion'] = le_occasion.fit_transform(wine_df['occasion'])\n",
    "wine_df['price_range'] = le_price_range.fit_transform(wine_df['price_range'])\n",
    "wine_df['flavor_notes'] = mlb.fit_transform(wine_df['flavor_notes'].apply(eval)).tolist()\n",
    "\n",
    "# Prepare the feature matrix X and labels y\n",
    "flavor_notes_df = pd.DataFrame(wine_df['flavor_notes'].tolist(), index=wine_df.index)\n",
    "X = pd.concat([\n",
    "    wine_df[['type', 'sweetness', 'body', 'occasion', 'price_range']],\n",
    "    flavor_notes_df\n",
    "], axis=1)\n",
    "\n",
    "# Convert all column names to strings\n",
    "X.columns = X.columns.astype(str)\n",
    "\n",
    "y = wine_df['wine_id']\n",
    "\n",
    "# Train the NearestNeighbors model\n",
    "number_of_neighbors = 5\n",
    "model = NearestNeighbors(n_neighbors=number_of_neighbors, algorithm='auto')\n",
    "model.fit(X)\n",
    "\n",
    "print(\"Model trained successfully.\")\n",
    "\n",
    "# Function to decode one-hot encoded flavor notes back to strings\n",
    "def decode_one_hot_flavor_notes(one_hot_notes):\n",
    "    return [label for note, label in zip(one_hot_notes, mlb.classes_) if note == 1]\n",
    "\n",
    "# Function to make wine recommendations\n",
    "def make_proposal(qa: dict):\n",
    "    global model, X, y\n",
    "    \n",
    "    # Encode user preferences\n",
    "    encoded_preferences = [\n",
    "        le_type.transform([qa['type']])[0] * type_weight,\n",
    "        le_sweetness.transform([qa['sweetness']])[0] * sweetness_weight,\n",
    "        le_body.transform([qa['body']])[0] * body_weight,\n",
    "        le_occasion.transform([qa['occasion']])[0] * occasion_weight,\n",
    "        le_price_range.transform([qa['price_range']])[0] * price_range_weight\n",
    "    ]\n",
    "    \n",
    "    flavor_note_binarized = mlb.transform([qa['flavor_notes']])[0] * flavor_notes_weight\n",
    "    encoded_preferences.extend(flavor_note_binarized)\n",
    "    \n",
    "    print(\"Encoded user preferences:\", encoded_preferences)  # Debugging\n",
    "\n",
    "    # Find the nearest neighbors\n",
    "    _, indices = model.kneighbors([encoded_preferences])\n",
    "\n",
    "    print(\"Recommended wine IDs:\", indices)  # Debugging\n",
    "\n",
    "    # Get the recommended wine IDs\n",
    "    recommended_wine_ids = y.iloc[indices[0]].values\n",
    "\n",
    "    # Retrieve the corresponding wines\n",
    "    recommended_wines = wine_df[wine_df['wine_id'].isin(recommended_wine_ids)].copy()\n",
    "    \n",
    "    # Mapping encoded values back to strings\n",
    "    recommended_wines['type'] = le_type.inverse_transform(recommended_wines['type'])\n",
    "    recommended_wines['sweetness'] = le_sweetness.inverse_transform(recommended_wines['sweetness'])\n",
    "    recommended_wines['body'] = le_body.inverse_transform(recommended_wines['body'])\n",
    "    recommended_wines['occasion'] = le_occasion.inverse_transform(recommended_wines['occasion'])\n",
    "    recommended_wines['price_range'] = le_price_range.inverse_transform(recommended_wines['price_range'])\n",
    "\n",
    "    # Decode one-hot encoded flavor notes back to strings\n",
    "    recommended_wines['flavor_notes'] = recommended_wines['flavor_notes'].apply(decode_one_hot_flavor_notes)\n",
    "\n",
    "    # Format data, return dict object\n",
    "    res = {}\n",
    "    for _, row in recommended_wines.iterrows():\n",
    "        res[row['name']] = {\n",
    "            \"type\": row['type'],\n",
    "            \"sweetness\": row['sweetness'],\n",
    "            \"flavor_notes\": row['flavor_notes'],  # Now properly decoded\n",
    "            \"body\": row['body'],\n",
    "            \"occasion\": row['occasion'],\n",
    "            \"price_range\": row['price_range'],\n",
    "            \"actual_price\": row['actual_price'],\n",
    "            \"description\": row['description'],\n",
    "        }\n",
    "\n",
    "    return res\n"
   ]
  },
  {
   "cell_type": "markdown",
   "id": "637b1fe1-e51d-4757-bc19-99daf907203f",
   "metadata": {},
   "source": [
    "# Sample usage"
   ]
  },
  {
   "cell_type": "code",
   "execution_count": 9,
   "id": "8d35fdef-b082-4cdb-a597-c3879830bb79",
   "metadata": {},
   "outputs": [
    {
     "name": "stdout",
     "output_type": "stream",
     "text": [
      "Encoded user preferences: [0.0, 0.0, 0.2, 0.01, 2.0, 0.0, 0.0, 0.3, 0.0, 0.0, 0.3]\n",
      "Recommended wine IDs: [[ 0  7 20  9  4]]\n",
      "Your Wine Recommendations:\n",
      "\n",
      "Wine: Cabernet Sauvignon\n",
      "  Type: Red\n",
      "  Sweetness: Dry\n",
      "  Description: Cabernet Sauvignon, a dry red with full body and rich notes of fruit and spice. Perfect for formal occasions, enjoyed best from French vineyards.\n",
      "\n",
      "  Actual Price: $50\n",
      "----------------------------------------\n",
      "Wine: Pinot Noir\n",
      "  Type: Red\n",
      "  Sweetness: Dry\n",
      "  Description: Pinot Noir, a dry red with light body and earthy fruit flavors. A choice pick for formal events, especially from Burgundy.\n",
      "\n",
      "  Actual Price: $45\n",
      "----------------------------------------\n",
      "Wine: Zinfandel\n",
      "  Type: Red\n",
      "  Sweetness: Dry\n",
      "  Description: Zinfandel, a dry and full-bodied red wine with vibrant fruity and spicy notes. Perfect for casual get-togethers.\n",
      "\n",
      "  Actual Price: $18\n",
      "----------------------------------------\n",
      "Wine: Malbec\n",
      "  Type: Red\n",
      "  Sweetness: Dry\n",
      "  Description: Malbec, a full-bodied dry red with rich fruit and spice flavors. A formal choice, often sourced from Argentina.\n",
      "\n",
      "  Actual Price: $30\n",
      "----------------------------------------\n",
      "Wine: Barolo\n",
      "  Type: Red\n",
      "  Sweetness: Dry\n",
      "  Description: Barolo, a full-bodied dry red with complex earthy fruit flavors. Ideal for formal settings, a prestigious Italian wine.\n",
      "\n",
      "  Actual Price: $70\n",
      "----------------------------------------\n"
     ]
    },
    {
     "name": "stderr",
     "output_type": "stream",
     "text": [
      "/Users/siskos/Library/jupyterlab-desktop/jlab_server/lib/python3.12/site-packages/sklearn/base.py:493: UserWarning: X does not have valid feature names, but NearestNeighbors was fitted with feature names\n",
      "  warnings.warn(\n"
     ]
    }
   ],
   "source": [
    "def print_recommendations(recommendations):\n",
    "    print(\"Your Wine Recommendations:\\n\")\n",
    "    for name, details in recommendations.items():\n",
    "        # Decode flavor notes if they are integers\n",
    "        flavor_notes = details['flavor_notes']\n",
    "        if isinstance(flavor_notes[0], int):  # Check if the first element is an integer\n",
    "            flavor_notes = decode_flavor_notes(flavor_notes)\n",
    "            \n",
    "        # Display the recommendations\n",
    "        print(f\"Wine: {name}\")\n",
    "        print(f\"  Type: {details['type']}\")\n",
    "        print(f\"  Sweetness: {details['sweetness']}\")\n",
    "        print(f\"  Description: {details['description']}\\n\")\n",
    "        print(f\"  Actual Price: ${details['actual_price']}\")\n",
    "        print(\"-\" * 40)\n",
    "\n",
    "# Example usage\n",
    "example_preferences = {\n",
    "    'type': 'Red',\n",
    "    'sweetness': 'Dry',\n",
    "    'flavor_notes': ['fruit', 'spice'],\n",
    "    'body': 'Light',\n",
    "    'occasion': 'Formal',\n",
    "    'price_range': '$$$'\n",
    "}\n",
    "\n",
    "\n",
    "recommendations = make_proposal(example_preferences)\n",
    "print_recommendations(recommendations)\n"
   ]
  },
  {
   "cell_type": "markdown",
   "id": "064772cb-448e-4c31-ab8d-de49d1f43484",
   "metadata": {},
   "source": [
    "# Model successfully trained and predicted sample data"
   ]
  },
  {
   "cell_type": "markdown",
   "id": "6042b6e5-4179-4ac5-b8b1-d8a4ef4171ed",
   "metadata": {},
   "source": [
    "# **<span style=\"\">Prompt 2: Interactive Quiz</span>**\n",
    "\n",
    "## **<span style=\"color:blue\">This looks good, but too complicated. I'd like it to be in the form of an interractive quiz, where I can select the type of wine I want and receive the recommendations</span>**\n"
   ]
  },
  {
   "cell_type": "code",
   "execution_count": 10,
   "id": "7f070b06-ba6b-4f71-a3ed-379ff44bf204",
   "metadata": {},
   "outputs": [
    {
     "data": {
      "application/vnd.jupyter.widget-view+json": {
       "model_id": "aa284ac2d522444193c36030a4a95e0f",
       "version_major": 2,
       "version_minor": 0
      },
      "text/plain": [
       "Dropdown(description='Type:', options=('White', 'Red'), value='White')"
      ]
     },
     "metadata": {},
     "output_type": "display_data"
    },
    {
     "data": {
      "application/vnd.jupyter.widget-view+json": {
       "model_id": "3fd70f73523448cba789e0cc4af4d781",
       "version_major": 2,
       "version_minor": 0
      },
      "text/plain": [
       "Dropdown(description='Sweetness:', options=('Dry', 'Off-dry', 'Sweet'), value='Dry')"
      ]
     },
     "metadata": {},
     "output_type": "display_data"
    },
    {
     "data": {
      "application/vnd.jupyter.widget-view+json": {
       "model_id": "7a28eea970d84449b8a556c33b75f79a",
       "version_major": 2,
       "version_minor": 0
      },
      "text/plain": [
       "VBox(children=(Checkbox(value=False, description='Fruit'), Checkbox(value=False, description='Spice'), Checkbo…"
      ]
     },
     "metadata": {},
     "output_type": "display_data"
    },
    {
     "data": {
      "application/vnd.jupyter.widget-view+json": {
       "model_id": "2173b8cd335b4cb08b88d8d82eb76841",
       "version_major": 2,
       "version_minor": 0
      },
      "text/plain": [
       "Dropdown(description='Body:', options=('Full', 'Medium', 'Light'), value='Full')"
      ]
     },
     "metadata": {},
     "output_type": "display_data"
    },
    {
     "data": {
      "application/vnd.jupyter.widget-view+json": {
       "model_id": "2b6ac5013d314046ac335f19ee3df16f",
       "version_major": 2,
       "version_minor": 0
      },
      "text/plain": [
       "Dropdown(description='Occasion:', options=('Formal', 'Casual'), value='Formal')"
      ]
     },
     "metadata": {},
     "output_type": "display_data"
    },
    {
     "data": {
      "application/vnd.jupyter.widget-view+json": {
       "model_id": "36fa25b2485d4fbab070f62951e6b167",
       "version_major": 2,
       "version_minor": 0
      },
      "text/plain": [
       "Dropdown(description='Price Range:', options=('$', '$$', '$$$'), value='$')"
      ]
     },
     "metadata": {},
     "output_type": "display_data"
    },
    {
     "data": {
      "application/vnd.jupyter.widget-view+json": {
       "model_id": "1402f7754a55444c9c2b3a15db56435d",
       "version_major": 2,
       "version_minor": 0
      },
      "text/plain": [
       "Button(description='Submit', style=ButtonStyle())"
      ]
     },
     "metadata": {},
     "output_type": "display_data"
    },
    {
     "data": {
      "application/vnd.jupyter.widget-view+json": {
       "model_id": "3795c982859b4f48be8f6d4f74b68d40",
       "version_major": 2,
       "version_minor": 0
      },
      "text/plain": [
       "Output()"
      ]
     },
     "metadata": {},
     "output_type": "display_data"
    }
   ],
   "source": [
    "import ipywidgets as widgets\n",
    "from IPython.display import display, clear_output\n",
    "\n",
    "# Define the widgets\n",
    "type_widget = widgets.Dropdown(options=['White', 'Red'], description='Type:')\n",
    "sweetness_widget = widgets.Dropdown(options=['Dry', 'Off-dry', 'Sweet'], description='Sweetness:')\n",
    "body_widget = widgets.Dropdown(options=['Full', 'Medium', 'Light'], description='Body:')\n",
    "occasion_widget = widgets.Dropdown(options=['Formal', 'Casual'], description='Occasion:')\n",
    "price_range_widget = widgets.Dropdown(options=['$', '$$', '$$$'], description='Price Range:')\n",
    "submit_button = widgets.Button(description='Submit')\n",
    "\n",
    "# Flavor Notes as a series of checkboxes\n",
    "flavor_notes_widget = widgets.VBox([\n",
    "    widgets.Checkbox(value=False, description='Fruit'),\n",
    "    widgets.Checkbox(value=False, description='Spice'),\n",
    "    widgets.Checkbox(value=False, description='Oak'),\n",
    "    widgets.Checkbox(value=False, description='Floral'),\n",
    "    widgets.Checkbox(value=False, description='Herbaceous'),\n",
    "    widgets.Checkbox(value=False, description='Earthy')\n",
    "])\n",
    "\n",
    "# Create an Output widget to display the results\n",
    "output = widgets.Output()\n",
    "\n",
    "# Define the function to handle the input\n",
    "def on_submit(b):\n",
    "    # Collect selected flavor notes\n",
    "    selected_flavor_notes = [checkbox.description for checkbox in flavor_notes_widget.children if checkbox.value]\n",
    "    \n",
    "    user_preferences = {\n",
    "        'type': type_widget.value,\n",
    "        'sweetness': sweetness_widget.value,\n",
    "        'flavor_notes': selected_flavor_notes,  # Store selected checkboxes as a list\n",
    "        'body': body_widget.value,\n",
    "        'occasion': occasion_widget.value,\n",
    "        'price_range': price_range_widget.value\n",
    "    }\n",
    "\n",
    "    # Call the recommendation function\n",
    "    recommendations = make_proposal(user_preferences)\n",
    "    \n",
    "    # Clear previous output and display the new recommendations\n",
    "    with output:\n",
    "        clear_output()\n",
    "        print(\"Here are your wine recommendations:\")\n",
    "        for name, details in recommendations.items():\n",
    "            print(f\"\\n{name}:\")\n",
    "            print(f\"  Type: {details.get('type', 'N/A')}\")\n",
    "            print(f\"  Sweetness: {details.get('sweetness', 'N/A')}\")\n",
    "            print(f\"  Flavor Notes: {', '.join(details.get('flavor_notes', []))}\")\n",
    "            print(f\"  Body: {details.get('body', 'N/A')}\")\n",
    "            print(f\"  Best Served: {details.get('occasion', 'N/A')}\")\n",
    "            print(f\"  Price Range: {details.get('price_range', 'N/A')}\")\n",
    "            print(f\"  Description: {details.get('description', 'N/A')}\")\n",
    "\n",
    "# Connect the button to the function\n",
    "submit_button.on_click(on_submit)\n",
    "\n",
    "# Display the widgets\n",
    "display(type_widget, sweetness_widget, flavor_notes_widget, body_widget, occasion_widget, price_range_widget, submit_button, output)\n"
   ]
  },
  {
   "cell_type": "markdown",
   "id": "5b5ad6b7-af92-429d-b995-c0264d488d8c",
   "metadata": {},
   "source": [
    "# **<span style=\"\">Prompt 3: Upload any Winelist</span>**\n",
    "\n",
    "## **<span style=\"color:blue\">Can you make it work for any wine-list? I want to be able to upload the wine-list, select my preferences, and get instant recommendations</span>**\n"
   ]
  },
  {
   "cell_type": "code",
   "execution_count": 11,
   "id": "33746f0d-62c5-4143-94dc-dd7f7732f246",
   "metadata": {},
   "outputs": [
    {
     "data": {
      "application/vnd.jupyter.widget-view+json": {
       "model_id": "687762ecca324cf1ac15e69915959101",
       "version_major": 2,
       "version_minor": 0
      },
      "text/plain": [
       "VBox(children=(FileUpload(value=(), accept='.csv, .xlsx', description='Upload'), Button(description='Train Mod…"
      ]
     },
     "metadata": {},
     "output_type": "display_data"
    },
    {
     "data": {
      "application/vnd.jupyter.widget-view+json": {
       "model_id": "f14b00d7f7544805b14cfd191e19a1a4",
       "version_major": 2,
       "version_minor": 0
      },
      "text/plain": [
       "VBox(children=(Dropdown(description='Type:', options=(), value=None), Dropdown(description='Sweetness:', optio…"
      ]
     },
     "metadata": {},
     "output_type": "display_data"
    }
   ],
   "source": [
    "import pandas as pd\n",
    "import ipywidgets as widgets\n",
    "from IPython.display import display, clear_output\n",
    "from sklearn.neighbors import NearestNeighbors\n",
    "from sklearn.preprocessing import LabelEncoder, MultiLabelBinarizer\n",
    "from tqdm.notebook import tqdm\n",
    "import io\n",
    "\n",
    "# Global variables for the model and encoders\n",
    "model = None\n",
    "le_type = LabelEncoder()\n",
    "le_sweetness = LabelEncoder()\n",
    "le_body = LabelEncoder()\n",
    "le_occasion = LabelEncoder()  # Renamed from le_best_served to le_occasion\n",
    "le_price_range = LabelEncoder()\n",
    "mlb = MultiLabelBinarizer()\n",
    "\n",
    "# Define widgets for file upload\n",
    "upload_widget = widgets.FileUpload(accept='.csv, .xlsx', multiple=False)\n",
    "train_button = widgets.Button(description='Train Model')\n",
    "output = widgets.Output()\n",
    "\n",
    "# Define widgets for wine recommendation inputs\n",
    "type_widget = widgets.Dropdown(options=[], description='Type:')\n",
    "sweetness_widget = widgets.Dropdown(options=[], description='Sweetness:')\n",
    "body_widget = widgets.Dropdown(options=[], description='Body:')\n",
    "occasion_widget = widgets.Dropdown(options=[], description='Occasion:')  # Renamed from best_served_widget to occasion_widget\n",
    "price_range_widget = widgets.Dropdown(options=[], description='Price Range:')\n",
    "\n",
    "# Replace the SelectMultiple with a series of checkboxes for flavor notes\n",
    "flavor_notes_widget = widgets.VBox([\n",
    "    widgets.Checkbox(value=False, description='Fruit'),\n",
    "    widgets.Checkbox(value=False, description='Spice'),\n",
    "    widgets.Checkbox(value=False, description='Oak'),\n",
    "    widgets.Checkbox(value=False, description='Floral'),\n",
    "    widgets.Checkbox(value=False, description='Herbaceous'),\n",
    "    widgets.Checkbox(value=False, description='Earthy')\n",
    "])\n",
    "\n",
    "submit_button = widgets.Button(description='Submit')\n",
    "\n",
    "# Display results\n",
    "recommendation_output = widgets.Output()\n",
    "\n",
    "# Function to handle file upload and training with progress bar\n",
    "def train_model(file_content, file_name):\n",
    "    global model, wine_df\n",
    "\n",
    "    with output:\n",
    "        clear_output()\n",
    "        print(\"Starting the model training process...\")\n",
    "        \n",
    "        # Step 1: Load the data\n",
    "        print(\"Step 1/4: Loading the data...\")\n",
    "        try:\n",
    "            file_extension = file_name.split('.')[-1]\n",
    "            if file_extension == 'xlsx':\n",
    "                wine_df = pd.read_excel(io.BytesIO(file_content))\n",
    "            elif file_extension == 'csv':\n",
    "                wine_df = pd.read_csv(io.BytesIO(file_content))\n",
    "            else:\n",
    "                print(\"Unsupported file format.\")\n",
    "                return\n",
    "            print(\"Data loaded successfully.\")\n",
    "        except Exception as e:\n",
    "            print(f\"Error loading data: {e}\")\n",
    "            return\n",
    "        \n",
    "        # Step 2: Preprocessing\n",
    "        print(\"Step 2/4: Preprocessing the data...\")\n",
    "        try:\n",
    "            wine_df['type'] = le_type.fit_transform(wine_df['type'])\n",
    "            wine_df['sweetness'] = le_sweetness.fit_transform(wine_df['sweetness'])\n",
    "            wine_df['body'] = le_body.fit_transform(wine_df['body'])\n",
    "            wine_df['occasion'] = le_occasion.fit_transform(wine_df['occasion'])  # Updated column name\n",
    "            wine_df['price_range'] = le_price_range.fit_transform(wine_df['price_range'])\n",
    "            wine_df['flavor_notes'] = mlb.fit_transform(wine_df['flavor_notes'].apply(eval)).tolist()\n",
    "            print(\"Data preprocessing completed.\")\n",
    "        except Exception as e:\n",
    "            print(f\"Error during preprocessing: {e}\")\n",
    "            return\n",
    "        \n",
    "        # Step 3: Preparing the feature matrix\n",
    "        print(\"Step 3/4: Preparing the feature matrix...\")\n",
    "        try:\n",
    "            flavor_notes_df = pd.DataFrame(wine_df['flavor_notes'].tolist(), index=wine_df.index)\n",
    "            X = pd.concat([\n",
    "                wine_df[['type', 'sweetness', 'body', 'occasion', 'price_range']],  # Updated column name\n",
    "                flavor_notes_df\n",
    "            ], axis=1)\n",
    "            y = wine_df['wine_id']\n",
    "\n",
    "            # Ensure all column names are strings\n",
    "            X.columns = X.columns.astype(str)\n",
    "            \n",
    "            print(\"Feature matrix preparation completed.\")\n",
    "        except Exception as e:\n",
    "            print(f\"Error preparing feature matrix: {e}\")\n",
    "            return\n",
    "        \n",
    "        # Step 4: Training the model with progress bar\n",
    "        print(\"Step 4/4: Training the Nearest Neighbors model...\")\n",
    "        try:\n",
    "            progress = tqdm(total=100, desc=\"Training Progress\", bar_format='{l_bar}{bar}| {n_fmt}/{total_fmt} [{elapsed}<{remaining}]')\n",
    "            model = NearestNeighbors(n_neighbors=5, algorithm='auto')\n",
    "            model.fit(X)\n",
    "            progress.update(100)\n",
    "            progress.close()\n",
    "            print(\"Model training completed successfully.\")\n",
    "        except Exception as e:\n",
    "            print(f\"Error during model training: {e}\")\n",
    "            return\n",
    "        \n",
    "        # Update widget options based on the new data\n",
    "        type_widget.options = list(le_type.classes_)\n",
    "        sweetness_widget.options = list(le_sweetness.classes_)\n",
    "        body_widget.options = list(le_body.classes_)\n",
    "        occasion_widget.options = list(le_occasion.classes_)  # Updated widget\n",
    "        price_range_widget.options = list(le_price_range.classes_)\n",
    "        \n",
    "        print(\"Widget options updated with new data.\")\n",
    "\n",
    "# Function to make wine recommendations\n",
    "def make_proposal(qa):\n",
    "    global model, wine_df\n",
    "\n",
    "    # Encode user preferences\n",
    "    encoded_preferences = [\n",
    "        le_type.transform([qa['type']])[0],\n",
    "        le_sweetness.transform([qa['sweetness']])[0],\n",
    "        le_body.transform([qa['body']])[0],\n",
    "        le_occasion.transform([qa['occasion']])[0],  # Updated key name\n",
    "        le_price_range.transform([qa['price_range']])[0]\n",
    "    ]\n",
    "    \n",
    "    flavor_note_binarized = mlb.transform([qa['flavor_notes']])[0]\n",
    "    encoded_preferences.extend(flavor_note_binarized)\n",
    "    \n",
    "    # Get the closest matches\n",
    "    _, indices = model.kneighbors([encoded_preferences])\n",
    "    recommended_wine_ids = wine_df.iloc[indices[0]]['wine_id'].values\n",
    "    \n",
    "    # Filter recommended wines\n",
    "    recommended_wines = wine_df[wine_df['wine_id'].isin(recommended_wine_ids)].copy()\n",
    "    \n",
    "    # Decode the label encoded features\n",
    "    recommended_wines['type'] = le_type.inverse_transform(recommended_wines['type'])\n",
    "    recommended_wines['sweetness'] = le_sweetness.inverse_transform(recommended_wines['sweetness'])\n",
    "    recommended_wines['body'] = le_body.inverse_transform(recommended_wines['body'])\n",
    "    recommended_wines['occasion'] = le_occasion.inverse_transform(recommended_wines['occasion'])  # Updated column name\n",
    "    recommended_wines['price_range'] = le_price_range.inverse_transform(recommended_wines['price_range'])\n",
    "    recommended_wines['flavor_notes'] = recommended_wines['flavor_notes'].apply(\n",
    "        lambda x: [mlb.classes_[i] for i in range(len(x)) if x[i] == 1])\n",
    "\n",
    "    # Sort recommendations so that wines of the same type as the user preference appear first\n",
    "    recommended_wines = recommended_wines.sort_values(by='type', ascending=False, key=lambda x: x == qa['type'])\n",
    "    \n",
    "    # Prepare the response dictionary\n",
    "    res = {}\n",
    "    for _, row in recommended_wines.iterrows():\n",
    "        res[row['name']] = {\n",
    "            \"type\": row['type'],\n",
    "            \"sweetness\": row['sweetness'],\n",
    "            \"flavor_notes\": row['flavor_notes'],\n",
    "            \"body\": row['body'],\n",
    "            \"occasion\": row['occasion'],  # Updated key name\n",
    "            \"price_range\": row['price_range'],\n",
    "            \"actual_price\": row['actual_price'],\n",
    "            \"description\": row['description'],\n",
    "        }\n",
    "\n",
    "    return res\n",
    "\n",
    "# Function to print recommendations\n",
    "def print_recommendations(recommendations):\n",
    "    with recommendation_output:\n",
    "        clear_output()\n",
    "        print(\"Your Wine Recommendations:\\n\")\n",
    "        for name, details in recommendations.items():\n",
    "            print(f\"Wine: {name}\")\n",
    "            print(f\"  Type: {details['type']}\")\n",
    "            print(f\"  Sweetness: {details['sweetness']}\")\n",
    "            print(f\"  Flavor Notes: {', '.join(details['flavor_notes'])}\")\n",
    "            print(f\"  Body: {details['body']}\")\n",
    "            print(f\"  Occasion: {details['occasion']}\")  # Updated key name\n",
    "            print(f\"  Price Range: {details['price_range']}\")\n",
    "            print(f\"  Actual Price: ${details['actual_price']}\")\n",
    "            print(f\"  Description: {details['description']}\\n\")\n",
    "            print(\"-\" * 40)\n",
    "\n",
    "# Event handler for the submit button\n",
    "def on_submit(b):\n",
    "    # Collect selected flavor notes from checkboxes\n",
    "    selected_flavor_notes = [checkbox.description for checkbox in flavor_notes_widget.children if checkbox.value]\n",
    "    \n",
    "    user_preferences = {\n",
    "        'type': type_widget.value,\n",
    "        'sweetness': sweetness_widget.value,\n",
    "        'flavor_notes': selected_flavor_notes,\n",
    "        'body': body_widget.value,\n",
    "        'occasion': occasion_widget.value,  # Updated key name\n",
    "        'price_range': price_range_widget.value\n",
    "    }\n",
    "    recommendations = make_proposal(user_preferences)\n",
    "    print_recommendations(recommendations)\n",
    "\n",
    "# Event handler for the train button\n",
    "def on_train_click(b):\n",
    "    if len(upload_widget.value) == 0:\n",
    "        with output:\n",
    "            clear_output()\n",
    "            print(\"Please upload a file before training.\")\n",
    "        return\n",
    "\n",
    "    uploaded_file = list(upload_widget.value)[0]  # Access the first file\n",
    "    file_content = uploaded_file['content']\n",
    "    file_name = uploaded_file['name']\n",
    "    train_model(file_content, file_name)\n",
    "\n",
    "# Connect the buttons to the functions\n",
    "train_button.on_click(on_train_click)\n",
    "submit_button.on_click(on_submit)\n",
    "\n",
    "# Display the interface\n",
    "display(widgets.VBox([upload_widget, train_button, output]))\n",
    "display(widgets.VBox([type_widget, sweetness_widget, flavor_notes_widget, body_widget, occasion_widget, price_range_widget, submit_button, recommendation_output]))\n"
   ]
  },
  {
   "cell_type": "markdown",
   "id": "4146c164-886e-42b4-a218-e0c31ee99003",
   "metadata": {},
   "source": [
    "# **<span style=\"\">Prompt 4: Generalize Recommender system to coctails</span>**\n",
    "\n",
    "## **<span style=\"color:blue\">My girlfriend wants to order a cocktail instead. Can you make it work for a coctail menu? Don't include the main spirits in the quiz, just the main tastes</span>**\n"
   ]
  },
  {
   "cell_type": "code",
   "execution_count": 12,
   "id": "ebc07e4c-b363-4510-931b-014501edebce",
   "metadata": {},
   "outputs": [
    {
     "data": {
      "application/vnd.jupyter.widget-view+json": {
       "model_id": "7c5fb8eed82942b9a47a4b188b0dec7e",
       "version_major": 2,
       "version_minor": 0
      },
      "text/plain": [
       "HTML(value='<b>Select the flavors you would like to enjoy:</b>')"
      ]
     },
     "metadata": {},
     "output_type": "display_data"
    },
    {
     "data": {
      "application/vnd.jupyter.widget-view+json": {
       "model_id": "edfca0cdab3b442e9cd21d8fa7f6ce28",
       "version_major": 2,
       "version_minor": 0
      },
      "text/plain": [
       "VBox(children=(Checkbox(value=False, description='Sweet 🍬'), Checkbox(value=False, description='Spicy 🌶️'), Ch…"
      ]
     },
     "metadata": {},
     "output_type": "display_data"
    },
    {
     "data": {
      "application/vnd.jupyter.widget-view+json": {
       "model_id": "bad94a797e6845a098f6b725553ba013",
       "version_major": 2,
       "version_minor": 0
      },
      "text/plain": [
       "Button(description='Find Cocktail', style=ButtonStyle())"
      ]
     },
     "metadata": {},
     "output_type": "display_data"
    },
    {
     "data": {
      "application/vnd.jupyter.widget-view+json": {
       "model_id": "7489ac4da5ae44a7a13dec29d36005c1",
       "version_major": 2,
       "version_minor": 0
      },
      "text/plain": [
       "Output()"
      ]
     },
     "metadata": {},
     "output_type": "display_data"
    }
   ],
   "source": [
    "import pandas as pd\n",
    "import ipywidgets as widgets\n",
    "from IPython.display import display, clear_output\n",
    "from sklearn.neighbors import NearestNeighbors\n",
    "from sklearn.preprocessing import MultiLabelBinarizer, OneHotEncoder\n",
    "\n",
    "# Load the cocktail menu\n",
    "file_path = 'Cocktail_Menu.csv'  # Update this with the correct path\n",
    "cocktail_df = pd.read_csv(file_path)\n",
    "\n",
    "# Define ingredient categories\n",
    "ingredient_categories = {\n",
    "    \"Sweet 🍬\": [\"Sugar\", \"Honey\", \"Simple Syrup\", \"Agave Syrup\"],\n",
    "    \"Spicy 🌶️\": [\"Bitters\", \"Cinnamon\", \"Nutmeg\", \"Clove\", \"Tabasco\", \"Pepper\"],\n",
    "    \"Orange 🍊\": [\"Orange Juice\", \"Triple Sec\", \"Orange Peel\", \"Grand Marnier\"],\n",
    "    \"Lemon 🍋\": [\"Lemon Juice\", \"Limoncello\", \"Lemon Peel\"],\n",
    "    \"Lime 🍈\": [\"Lime Juice\", \"Lime Peel\"],\n",
    "    \"Herbal 🌿\": [\"Mint\", \"Basil\", \"Rosemary\", \"Thyme\"],\n",
    "    \"Other 🧂\": [\"Salt\", \"Soda Water\", \"Grenadine\"]\n",
    "}\n",
    "\n",
    "\n",
    "# Function to map ingredients to categories\n",
    "def map_ingredients_to_categories(ingredients):\n",
    "    mapped = set()\n",
    "    for ingredient in ingredients:\n",
    "        for category, items in ingredient_categories.items():\n",
    "            if ingredient in items:\n",
    "                mapped.add(category)\n",
    "    return list(mapped)\n",
    "\n",
    "# Apply the mapping to the dataset\n",
    "cocktail_df['Ingredient Categories'] = cocktail_df['Ingredients'].apply(\n",
    "    lambda ingredients: map_ingredients_to_categories([i.strip() for i in ingredients.split(',')])\n",
    ")\n",
    "\n",
    "# Multi-label binarize the ingredient categories\n",
    "mlb = MultiLabelBinarizer()\n",
    "categories_encoded = mlb.fit_transform(cocktail_df['Ingredient Categories'])\n",
    "\n",
    "# One-hot encode the 'Main Spirit' column\n",
    "one_hot_encoder = OneHotEncoder()\n",
    "main_spirit_encoded = one_hot_encoder.fit_transform(cocktail_df[['Main Spirit']]).toarray()\n",
    "\n",
    "# Combine the encoded data\n",
    "X = pd.DataFrame(main_spirit_encoded, columns=one_hot_encoder.get_feature_names_out(['Main Spirit']))\n",
    "X = pd.concat([X, pd.DataFrame(categories_encoded, columns=mlb.classes_)], axis=1)\n",
    "\n",
    "# To emphasize the main spirit, manually repeat its encoding multiple times\n",
    "main_spirit_weight = 1000  # Increase this weight to make the spirit more important\n",
    "repeated_spirit_columns = pd.DataFrame(\n",
    "    X.loc[:, one_hot_encoder.get_feature_names_out(['Main Spirit'])].values.repeat(main_spirit_weight, axis=1),\n",
    "    columns=[f\"{col}_w{i}\" for col in one_hot_encoder.get_feature_names_out(['Main Spirit']) for i in range(main_spirit_weight)]\n",
    ")\n",
    "X_weighted = pd.concat([repeated_spirit_columns, X.drop(columns=one_hot_encoder.get_feature_names_out(['Main Spirit']))], axis=1)\n",
    "\n",
    "# Initialize k-NN model\n",
    "knn = NearestNeighbors(n_neighbors=5, metric='euclidean')\n",
    "knn.fit(X_weighted)\n",
    "\n",
    "# Define widgets for cocktail recommendation inputs\n",
    "quirky_text = widgets.HTML(\"<b>Select the flavors you would like to enjoy:</b>\")\n",
    "category_widget = widgets.VBox([\n",
    "    widgets.Checkbox(value=False, description=category)\n",
    "    for category in ingredient_categories.keys()\n",
    "])\n",
    "submit_button = widgets.Button(description='Find Cocktail')\n",
    "recommendation_output = widgets.Output()\n",
    "\n",
    "# Function to make cocktail recommendations\n",
    "def make_cocktail_recommendation(preferences):\n",
    "    # Encode the user inputs\n",
    "    user_categories = mlb.transform([preferences['categories']])[0]\n",
    "\n",
    "    # Create the input vector for k-NN (main spirit is emphasized internally)\n",
    "    user_input = list([0] * main_spirit_weight * len(one_hot_encoder.get_feature_names_out(['Main Spirit']))) + list(user_categories)\n",
    "\n",
    "    # Ensure the user_input matches the weighted feature set\n",
    "    user_input = pd.DataFrame([user_input])\n",
    "\n",
    "    # Get nearest neighbors\n",
    "    distances, indices = knn.kneighbors(user_input)\n",
    "    recommended_cocktails = cocktail_df.iloc[indices[0]]\n",
    "\n",
    "    return recommended_cocktails\n",
    "\n",
    "# Function to display recommendations\n",
    "def print_cocktail_recommendations(recommendations):\n",
    "    with recommendation_output:\n",
    "        clear_output()\n",
    "        if recommendations.empty:\n",
    "            print(\"No cocktails match your preferences.\")\n",
    "        else:\n",
    "            print(\"Here are your cocktail recommendations:\")\n",
    "            for _, row in recommendations.iterrows():\n",
    "                print(f\"\\nCocktail: {row['Cocktail Name']}\")\n",
    "                print(f\"  Main Spirit: {row['Main Spirit']}\")\n",
    "                print(f\"  Ingredient Categories: {', '.join(row['Ingredient Categories'])}\")\n",
    "\n",
    "# Event handler for the submit button\n",
    "def on_submit(b):\n",
    "    selected_categories = [\n",
    "        checkbox.description for checkbox in category_widget.children if checkbox.value\n",
    "    ]\n",
    "    user_preferences = {\n",
    "        'categories': selected_categories\n",
    "    }\n",
    "    recommendations = make_cocktail_recommendation(user_preferences)\n",
    "    print_cocktail_recommendations(recommendations)\n",
    "\n",
    "# Connect the button to the function\n",
    "submit_button.on_click(on_submit)\n",
    "\n",
    "# Display the interface\n",
    "display(quirky_text, category_widget, submit_button, recommendation_output)\n"
   ]
  }
 ],
 "metadata": {
  "kernelspec": {
   "display_name": "Python 3 (ipykernel)",
   "language": "python",
   "name": "python3"
  },
  "language_info": {
   "codemirror_mode": {
    "name": "ipython",
    "version": 3
   },
   "file_extension": ".py",
   "mimetype": "text/x-python",
   "name": "python",
   "nbconvert_exporter": "python",
   "pygments_lexer": "ipython3",
   "version": "3.12.3"
  }
 },
 "nbformat": 4,
 "nbformat_minor": 5
}
